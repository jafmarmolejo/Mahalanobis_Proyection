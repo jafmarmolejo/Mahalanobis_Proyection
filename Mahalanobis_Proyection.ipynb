{
  "nbformat": 4,
  "nbformat_minor": 0,
  "metadata": {
    "kernelspec": {
      "display_name": "Python 3",
      "language": "python",
      "name": "python3"
    },
    "language_info": {
      "codemirror_mode": {
        "name": "ipython",
        "version": 3
      },
      "file_extension": ".py",
      "mimetype": "text/x-python",
      "name": "python",
      "nbconvert_exporter": "python",
      "pygments_lexer": "ipython3",
      "version": "3.6.5"
    },
    "colab": {
      "provenance": []
    }
  },
  "cells": [
    {
      "cell_type": "code",
      "metadata": {
        "id": "nh_1Jq0BHWe_"
      },
      "source": [
        "from __future__ import print_function\n",
        "import argparse\n",
        "import torch\n",
        "import torch.nn as nn\n",
        "import torch.nn.functional as F\n",
        "import torch.optim as optim\n",
        "import numpy as np;\n",
        "import pandas as pandas;\n",
        "from scipy import ndimage\n",
        "from torchvision import datasets, transforms\n",
        "from torch.distributions import normal\n",
        "from torch.distributions import multivariate_normal\n",
        "import matplotlib.pyplot as plt"
      ],
      "execution_count": 1,
      "outputs": []
    },
    {
      "cell_type": "code",
      "metadata": {
        "id": "3Cbce3Gr6MDL"
      },
      "source": [
        "torch.set_default_tensor_type(torch.DoubleTensor)"
      ],
      "execution_count": 2,
      "outputs": []
    },
    {
      "cell_type": "code",
      "metadata": {
        "colab": {
          "base_uri": "https://localhost:8080/",
          "height": 668
        },
        "id": "pCUSG6EcHWfC",
        "outputId": "580a7f5f-0288-4028-a4c5-bcf948f4a715"
      },
      "source": [
        "'''\n",
        "Creates data with gaussian distribution\n",
        "'''\n",
        "def create_data_one_mode(mean, covarianceMatrix, numberSamples):\n",
        "    # Inits the bi gaussian data generator\n",
        "    multiGaussGenerator = multivariate_normal.MultivariateNormal(mean, covarianceMatrix)\n",
        "    # Takes the samples\n",
        "    samples = multiGaussGenerator.sample(torch.Size([numberSamples]))\n",
        "    samples = samples.type(torch.DoubleTensor)\n",
        "    return samples\n",
        "\n",
        "\n",
        "covarianceMatrix = torch.tensor([[2, -0.5], [-0.5, 0.5]])\n",
        "mean = torch.tensor([2.0, 2.0])\n",
        "X = create_data_one_mode(mean = mean, covarianceMatrix = covarianceMatrix, numberSamples = 100)\n",
        "plt.scatter(X[:, 0], X[:, 1])\n",
        "\n",
        "#data example\n",
        "mu = mean\n",
        "y1 = torch.tensor([1.05, 3.4])\n",
        "y2 = torch.tensor([2.65, 3.57])\n",
        "plt.scatter(y1[0], y1[1],c = 'red')\n",
        "plt.scatter(y2[0], y2[1],c = 'green')\n",
        "plt.scatter(mean[0], mean[1], c = 'yellow')\n",
        "plt.show()\n",
        "\n",
        "\n",
        "#calcular las distancias Euclidianas\n",
        "\"\"\" ---------------------------------------------      Distance\n",
        "\"\"\"\n",
        "def distance(v1,v2):\n",
        "  ten1=torch.tensor(v1)\n",
        "  ten2=torch.tensor(v2)\n",
        "\n",
        "  dis=ten2-ten1\n",
        "\n",
        "  return (dis)\n",
        "\n",
        "eu_dist_uy1= torch.norm(distance(mu,y1),2)\n",
        "eu_dist_uy2= torch.norm(distance(mu,y2),2)\n",
        "print(\"\\n**************** Distancia euclidiana U,Y1 ****************\")\n",
        "print(eu_dist_uy1)\n",
        "print(\"\\n**************** Distancia euclidiana U,Y2 ****************\")\n",
        "print(eu_dist_uy2)\n",
        "print(\"\\n**************** ****************\")"
      ],
      "execution_count": 3,
      "outputs": [
        {
          "output_type": "display_data",
          "data": {
            "text/plain": [
              "<Figure size 640x480 with 1 Axes>"
            ],
            "image/png": "[encoded data removed]"
          },
          "metadata": {}
        },
        {
          "output_type": "stream",
          "name": "stdout",
          "text": [
            "\n",
            "**************** Distancia euclidiana U,Y1 ****************\n",
            "tensor(1.6919)\n",
            "\n",
            "**************** Distancia euclidiana U,Y2 ****************\n",
            "tensor(1.6992)\n",
            "\n",
            "**************** ****************\n"
          ]
        },
        {
          "output_type": "stream",
          "name": "stderr",
          "text": [
            "<ipython-input-3-ebe489a454b7>:32: UserWarning: To copy construct from a tensor, it is recommended to use sourceTensor.clone().detach() or sourceTensor.clone().detach().requires_grad_(True), rather than torch.tensor(sourceTensor).\n",
            "  ten1=torch.tensor(v1)\n",
            "<ipython-input-3-ebe489a454b7>:33: UserWarning: To copy construct from a tensor, it is recommended to use sourceTensor.clone().detach() or sourceTensor.clone().detach().requires_grad_(True), rather than torch.tensor(sourceTensor).\n",
            "  ten2=torch.tensor(v2)\n"
          ]
        }
      ]
    },
    {
      "cell_type": "markdown",
      "metadata": {
        "id": "ApPAWGfKPaMn"
      },
      "source": [
        "\n",
        "\n",
        "*   2\n",
        "\n"
      ]
    },
    {
      "cell_type": "code",
      "metadata": {
        "colab": {
          "base_uri": "https://localhost:8080/"
        },
        "id": "yKS1ytsiPftd",
        "outputId": "f9d1471b-e802-4689-d134-11cf3815f92e"
      },
      "source": [
        "def calcular_blanqueo_PCA1(X, y1, y2):\n",
        "  X = X.transpose(0,1)\n",
        "  mean1 = torch.mean(X, 1, True)\n",
        "  res = mean1-X\n",
        "  covMatrix = 1/(X.shape[1]-1 ) * res.mm(res.transpose(0,1))\n",
        "\n",
        "  print(\"\\n**************** COVARIANCE MATRIX ****************\")\n",
        "  print(covMatrix)\n",
        "\n",
        "  return\n",
        "\n",
        "calcular_blanqueo_PCA1(X, y1, y2)\n",
        "\n",
        "print(covarianceMatrix)"
      ],
      "execution_count": 4,
      "outputs": [
        {
          "output_type": "stream",
          "name": "stdout",
          "text": [
            "\n",
            "**************** COVARIANCE MATRIX ****************\n",
            "tensor([[ 2.4318, -0.6368],\n",
            "        [-0.6368,  0.6141]])\n",
            "tensor([[ 2.0000, -0.5000],\n",
            "        [-0.5000,  0.5000]])\n"
          ]
        }
      ]
    },
    {
      "cell_type": "code",
      "metadata": {
        "colab": {
          "base_uri": "https://localhost:8080/",
          "height": 376
        },
        "id": "a5sDjE-8cpD9",
        "outputId": "69f44edf-147f-4104-f531-b2ae549c5d41"
      },
      "source": [
        "def calculateEigenvectorsAndValues(dataset, n):\n",
        "  \"\"\"\n",
        "  param dataset, dataset used to calculate its covariance matrix\n",
        "  param n, number of eigen vectors to extract\n",
        "  \"\"\"\n",
        "  #use numpy cov function to calculate the covariance matrix\n",
        "  Sigma = torch.tensor(np.cov(dataset.transpose(0,1).numpy()))\n",
        "  \n",
        "  \n",
        "  #one eigen value per row, and its corresponding eigenvector per column\n",
        "  EigenValues, EigenVectors = torch.eig(Sigma ,eigenvectors=True)\n",
        " \n",
        "  return (EigenValues, EigenVectors)\n",
        "\n",
        "_, EigenVectors = calculateEigenvectorsAndValues(X, 2)\n",
        "EigenVectors"
      ],
      "execution_count": 6,
      "outputs": [
        {
          "output_type": "error",
          "ename": "RuntimeError",
          "evalue": "ignored",
          "traceback": [
            "\u001b[0;31m---------------------------------------------------------------------------\u001b[0m",
            "\u001b[0;31mRuntimeError\u001b[0m                              Traceback (most recent call last)",
            "\u001b[0;32m<ipython-input-6-3411d9e351bc>\u001b[0m in \u001b[0;36m<cell line: 15>\u001b[0;34m()\u001b[0m\n\u001b[1;32m     13\u001b[0m   \u001b[0;32mreturn\u001b[0m \u001b[0;34m(\u001b[0m\u001b[0mEigenValues\u001b[0m\u001b[0;34m,\u001b[0m \u001b[0mEigenVectors\u001b[0m\u001b[0;34m)\u001b[0m\u001b[0;34m\u001b[0m\u001b[0;34m\u001b[0m\u001b[0m\n\u001b[1;32m     14\u001b[0m \u001b[0;34m\u001b[0m\u001b[0m\n\u001b[0;32m---> 15\u001b[0;31m \u001b[0mEigenVectors\u001b[0m \u001b[0;34m=\u001b[0m \u001b[0mcalculateEigenvectorsAndValues\u001b[0m\u001b[0;34m(\u001b[0m\u001b[0mX\u001b[0m\u001b[0;34m,\u001b[0m \u001b[0;36m2\u001b[0m\u001b[0;34m)\u001b[0m\u001b[0;34m\u001b[0m\u001b[0;34m\u001b[0m\u001b[0m\n\u001b[0m\u001b[1;32m     16\u001b[0m \u001b[0mEigenVectors\u001b[0m\u001b[0;34m\u001b[0m\u001b[0;34m\u001b[0m\u001b[0m\n",
            "\u001b[0;32m<ipython-input-6-3411d9e351bc>\u001b[0m in \u001b[0;36mcalculateEigenvectorsAndValues\u001b[0;34m(dataset, n)\u001b[0m\n\u001b[1;32m      9\u001b[0m \u001b[0;34m\u001b[0m\u001b[0m\n\u001b[1;32m     10\u001b[0m   \u001b[0;31m#one eigen value per row, and its corresponding eigenvector per column\u001b[0m\u001b[0;34m\u001b[0m\u001b[0;34m\u001b[0m\u001b[0m\n\u001b[0;32m---> 11\u001b[0;31m   \u001b[0mEigenValues\u001b[0m\u001b[0;34m,\u001b[0m \u001b[0mEigenVectors\u001b[0m \u001b[0;34m=\u001b[0m \u001b[0mtorch\u001b[0m\u001b[0;34m.\u001b[0m\u001b[0meig\u001b[0m\u001b[0;34m(\u001b[0m\u001b[0mSigma\u001b[0m \u001b[0;34m,\u001b[0m\u001b[0meigenvectors\u001b[0m\u001b[0;34m=\u001b[0m\u001b[0;32mTrue\u001b[0m\u001b[0;34m)\u001b[0m\u001b[0;34m\u001b[0m\u001b[0;34m\u001b[0m\u001b[0m\n\u001b[0m\u001b[1;32m     12\u001b[0m \u001b[0;34m\u001b[0m\u001b[0m\n\u001b[1;32m     13\u001b[0m   \u001b[0;32mreturn\u001b[0m \u001b[0;34m(\u001b[0m\u001b[0mEigenValues\u001b[0m\u001b[0;34m,\u001b[0m \u001b[0mEigenVectors\u001b[0m\u001b[0;34m)\u001b[0m\u001b[0;34m\u001b[0m\u001b[0;34m\u001b[0m\u001b[0m\n",
            "\u001b[0;32m/usr/local/lib/python3.9/dist-packages/torch/_linalg_utils.py\u001b[0m in \u001b[0;36meig\u001b[0;34m(self, eigenvectors, e, v)\u001b[0m\n\u001b[1;32m    125\u001b[0m     \u001b[0mself\u001b[0m\u001b[0;34m:\u001b[0m \u001b[0mTensor\u001b[0m\u001b[0;34m,\u001b[0m \u001b[0meigenvectors\u001b[0m\u001b[0;34m:\u001b[0m \u001b[0mbool\u001b[0m \u001b[0;34m=\u001b[0m \u001b[0;32mFalse\u001b[0m\u001b[0;34m,\u001b[0m \u001b[0;34m*\u001b[0m\u001b[0;34m,\u001b[0m \u001b[0me\u001b[0m\u001b[0;34m=\u001b[0m\u001b[0;32mNone\u001b[0m\u001b[0;34m,\u001b[0m \u001b[0mv\u001b[0m\u001b[0;34m=\u001b[0m\u001b[0;32mNone\u001b[0m\u001b[0;34m\u001b[0m\u001b[0;34m\u001b[0m\u001b[0m\n\u001b[1;32m    126\u001b[0m ) -> Tuple[Tensor, Tensor]:\n\u001b[0;32m--> 127\u001b[0;31m     raise RuntimeError(\n\u001b[0m\u001b[1;32m    128\u001b[0m         \u001b[0;34m\"This function was deprecated since version 1.9 and is now removed. Please use the `torch.linalg.eig` function instead.\"\u001b[0m\u001b[0;34m,\u001b[0m\u001b[0;34m\u001b[0m\u001b[0;34m\u001b[0m\u001b[0m\n\u001b[1;32m    129\u001b[0m     )\n",
            "\u001b[0;31mRuntimeError\u001b[0m: This function was deprecated since version 1.9 and is now removed. Please use the `torch.linalg.eig` function instead."
          ]
        }
      ]
    },
    {
      "cell_type": "code",
      "metadata": {
        "id": "4PvHy_MQez2e"
      },
      "source": [
        "U = (X - mu)\n",
        "U"
      ],
      "execution_count": null,
      "outputs": []
    },
    {
      "cell_type": "code",
      "metadata": {
        "id": "agUJ99EsgudP"
      },
      "source": [
        "def reduceDataDimensionality(dataset, baseVectors):\n",
        "  \"\"\"\n",
        "  Project the dataset using the base vectors\n",
        "  param dataset, dataset to project\n",
        "  param basevectors, base vectors to use, one base vector per column\n",
        "  \"\"\" \n",
        "  numDataSamples = dataset.shape[0]\n",
        "  \n",
        "  #substract the mean to the data for data normalization\n",
        "  mu = torch.mean(dataset, 0)\n",
        "  dataset = dataset - mu\n",
        "  print(\"mean tensor\")\n",
        "  print(mu)\n",
        "\n",
        "  dataset2D = dataset.mm(baseVectors)\n",
        "  \n",
        "    \n",
        "  return dataset2D\n",
        "\n",
        "\n",
        "EigenVectors1 = torch.zeros(EigenVectors.shape[0], 2)\n",
        "EigenVectors1[:,0] = EigenVectors[:,0] / covarianceMatrix[0,0]\n",
        "EigenVectors1[:,1] = EigenVectors[:,1] / covarianceMatrix[1,1]\n",
        "U_proy = reduceDataDimensionality(X, EigenVectors1)\n",
        "U_proy"
      ],
      "execution_count": null,
      "outputs": []
    },
    {
      "cell_type": "code",
      "metadata": {
        "id": "K5cZNfcCMEIA"
      },
      "source": [],
      "execution_count": null,
      "outputs": []
    },
    {
      "cell_type": "code",
      "metadata": {
        "id": "xxQxA8GjKFsL"
      },
      "source": [
        "w1 = y1 - mu\n",
        "w2 = y2 - mu\n",
        "\n",
        "print(w1)\n",
        "\n",
        "y1_proy = torch.zeros(1,2)\n",
        "y2_proy = torch.zeros(1,2)\n",
        "\n",
        "y1_proy[0,0] = w1.dot(EigenVectors1[:,0])\n",
        "y1_proy[0,1] = w2.dot(EigenVectors1[:,0])\n",
        "y2_proy[0,0] = w1.dot(EigenVectors1[:,1])\n",
        "y2_proy[0,1] = w2.dot(EigenVectors1[:,1])\n",
        "\n",
        "w1 = torch.reshape(w1, (1,2))\n",
        "w2 = torch.reshape(w2, (1,2))\n",
        "\n",
        "W = torch.cat((w1,w2), 0)\n",
        "\n",
        "dataset2D_w = W.mm(EigenVectors1)\n",
        "print(dataset2D_w)\n",
        "print(y1_proy)\n",
        "print(y2_proy)"
      ],
      "execution_count": null,
      "outputs": []
    },
    {
      "cell_type": "code",
      "metadata": {
        "id": "vz_SCgkaOTHs"
      },
      "source": [
        "plt.scatter(U_proy[:, 0], U_proy[:, 1])\n",
        "plt.scatter(dataset2D_w[0,0], dataset2D_w[0,1],c = 'red')\n",
        "plt.scatter(dataset2D_w[1,0], dataset2D_w[1,1],c = 'green')\n",
        "plt.scatter(0., 0., c = 'yellow')\n",
        "plt.show()"
      ],
      "execution_count": null,
      "outputs": []
    },
    {
      "cell_type": "code",
      "metadata": {
        "id": "VNIvXJEuQjXB"
      },
      "source": [
        "def calCovMx(X):\n",
        "  X = X.transpose(0,1)\n",
        "  mean1 = torch.mean(X, 1, True)\n",
        "  res = mean1-X\n",
        "  covMatrix = 1/(X.shape[1]-1 ) * res.mm(res.transpose(0,1))\n",
        "  print(covMatrix)\n",
        "\n",
        "calCovMx(U_proy)"
      ],
      "execution_count": null,
      "outputs": []
    },
    {
      "cell_type": "code",
      "metadata": {
        "id": "GzvRhUYgSOPy"
      },
      "source": [
        "mean_x = torch.mean(U_proy[:,0])\n",
        "mean_y =torch.mean(U_proy[:,1])\n",
        "\n",
        "print(mean_x)\n",
        "print(mean_y)\n",
        "\n",
        "mu_proy = torch.tensor([0., 0.])\n",
        "y1_proy = torch.tensor([dataset2D_w[0,0], dataset2D_w[0,1]])\n",
        "y2_proy = torch.tensor([dataset2D_w[1,0], dataset2D_w[1,1]])\n",
        "\n",
        "\n",
        "eu_dist_uy1_proy= torch.norm(distance(mu_proy,y1_proy),2)\n",
        "eu_dist_uy2_proy= torch.norm(distance(mu_proy,y2_proy),2)\n",
        "print(\"\\n**************** Distancia euclidiana U,Y1 ****************\")\n",
        "print(eu_dist_uy1_proy)\n",
        "print(\"\\n**************** Distancia euclidiana U,Y2 ****************\")\n",
        "print(eu_dist_uy2_proy)\n",
        "print(\"\\n**************** ****************\")"
      ],
      "execution_count": null,
      "outputs": []
    },
    {
      "cell_type": "markdown",
      "metadata": {
        "id": "Q8V8nXj-bug9"
      },
      "source": [
        "\n",
        "\n",
        "*   3\n",
        "\n",
        "\n"
      ]
    },
    {
      "cell_type": "code",
      "metadata": {
        "id": "htLef-UtVvHP"
      },
      "source": [
        "def calcular_distancia_Mahalanobis(vector1, vector2):\n",
        "  trans = (vector1-vector2).transpose(0, 1)\n",
        "  inv = torch.inverse(covarianceMatrix)\n",
        "  norm = vector1-vector2\n",
        "  print(np.sqrt(trans.mm(inv).mm(norm)))\n",
        "  return\n",
        "\n",
        "mu_1 = torch.reshape(mu, (1,2)).transpose(0,1)\n",
        "y_1 = torch.reshape(y1, (1,2)).transpose(0,1)\n",
        "y_2 = torch.reshape(y2, (1,2)).transpose(0,1)\n",
        "\n",
        "calcular_distancia_Mahalanobis(mu_1, y_1)\n",
        "calcular_distancia_Mahalanobis(mu_1, y_2)"
      ],
      "execution_count": null,
      "outputs": []
    },
    {
      "cell_type": "markdown",
      "metadata": {
        "id": "dkTRkcdmbyYU"
      },
      "source": [
        "\n",
        "\n",
        "*   4\n",
        "\n"
      ]
    },
    {
      "cell_type": "code",
      "metadata": {
        "id": "11-PrGyCzYZq"
      },
      "source": [
        "\n",
        "%matplotlib inline\n",
        "from mpl_toolkits import mplot3d\n",
        "import matplotlib.pyplot as plt\n",
        "plt.style.use('seaborn-whitegrid')\n",
        "import numpy as np\n",
        "\n",
        "def f(x, y):\n",
        "  ope = (x-0.7)**2 + (y-0.5)**2\n",
        "  return ope\n",
        "\n",
        "x = np.linspace(-20, 20, 30)\n",
        "y = np.linspace(-20, 20, 30)\n",
        "\n",
        "X, Y = np.meshgrid(x, y)\n",
        "Z = f(X, Y)\n",
        "\n",
        "\n",
        "fig = plt.figure()\n",
        "ax = plt.axes(projection='3d')\n",
        "ax.contour3D(X, Y, Z, 50, cmap='binary')"
      ],
      "execution_count": null,
      "outputs": []
    },
    {
      "cell_type": "code",
      "metadata": {
        "id": "kaORlthHnI_U"
      },
      "source": [
        "def grad(x1, x2):\n",
        "  grad = torch.tensor([2.*(x1-0.7), 2.*(x2-0.5)])\n",
        "  return grad\n",
        "\n",
        "grad(0.,0.)"
      ],
      "execution_count": null,
      "outputs": []
    },
    {
      "cell_type": "code",
      "metadata": {
        "id": "Q9MFO0UPegvD"
      },
      "source": [
        "alpha = 0.1\n",
        "x0 = torch.tensor([20., 20.]) #Initial guess\n",
        "N = 100 # Maximum number of iterations\n",
        "tol = 1e-4 # Convergence tolerance\n",
        "x = torch.zeros(N + 1,2) # Preallocate solution vector where row => iteration\n",
        "x[0] = x0 # Set initial guess\n",
        "\n",
        "n = 1\n",
        "nfinal = N # Store final iteration if tol is reached before N iterations\n",
        "while (n <= N): \n",
        "  x[n] = x[n - 1] - alpha * grad(x[n-1,0], x[n-1,1])\n",
        "  if (abs((np.sqrt(grad(x[n-1,0], x[n-1,1])[0]**2+grad(x[n-1,0], x[n-1,1])[1]**2))) <= tol):\n",
        "      nfinal = n # Store final iteration\n",
        "      break\n",
        "  n = n + 1\n",
        "\n",
        "print(x[:65,:])\n",
        "print(nfinal)"
      ],
      "execution_count": null,
      "outputs": []
    },
    {
      "cell_type": "code",
      "metadata": {
        "id": "IKJ507CDNJYA"
      },
      "source": [
        "X1, Y1 = np.meshgrid(x[:,0].numpy(), x[:,1].numpy())\n",
        "\n",
        "Z1 = f(X1, Y1)\n",
        "\n",
        "fig = plt.figure()\n",
        "ax = fig.add_subplot(projection='3d')\n",
        "ax.contour3D(X, Y, Z, 50, cmap='binary')\n",
        "ax.scatter(X1, Y1, Z1, cmap='summer')"
      ],
      "execution_count": null,
      "outputs": []
    },
    {
      "cell_type": "markdown",
      "metadata": {
        "id": "hvZlFZ_kbQL_"
      },
      "source": [
        "**Newton-Raphson 1**"
      ]
    },
    {
      "cell_type": "code",
      "metadata": {
        "id": "XLtyRJ82J-wa"
      },
      "source": [
        "x0 = torch.tensor([20., 20.]) #Initial guess\n",
        "N = 10 # Maximum number of iterations\n",
        "tol = 1e-4 # Convergence tolerance\n",
        "x = torch.zeros(N + 1,2) # Preallocate solution vector where row => iteration\n",
        "x[0] = x0 # Set initial guess\n",
        "hess = 2*torch.eye(2,2)\n",
        "\n",
        "n = 1\n",
        "nfinal = N # Store final iteration if tol is reached before N iterations\n",
        "while (n <= N): \n",
        "  x[n] = x[n - 1] - torch.reshape(grad(x[n-1,0], x[n-1,1]), (1,2)).mm(torch.inverse(hess))\n",
        "  if (abs((np.sqrt(grad(x[n-1,0], x[n-1,1])[0]**2+grad(x[n-1,0], x[n-1,1])[1]**2))) <= tol):\n",
        "      nfinal = n # Store final iteration\n",
        "      break\n",
        "  n = n + 1\n",
        "\n",
        "print(x)\n",
        "print(nfinal)"
      ],
      "execution_count": null,
      "outputs": []
    },
    {
      "cell_type": "code",
      "metadata": {
        "id": "7_xfKUklWmbZ"
      },
      "source": [
        "X1, Y1 = np.meshgrid(x[:,0].numpy(), x[:,1].numpy())\n",
        "\n",
        "Z1 = f(X1, Y1)\n",
        "\n",
        "fig = plt.figure()\n",
        "ax = fig.add_subplot(projection='3d')\n",
        "ax.contour3D(X, Y, Z, 50, cmap='binary')\n",
        "ax.scatter(X1, Y1, Z1, cmap='summer')"
      ],
      "execution_count": null,
      "outputs": []
    },
    {
      "cell_type": "markdown",
      "metadata": {
        "id": "bBJFVhvxbAHa"
      },
      "source": [
        "**Newton-Raphson 2**"
      ]
    },
    {
      "cell_type": "code",
      "metadata": {
        "id": "NAmdTwViTuht"
      },
      "source": [
        "def grad(x1, x2):\n",
        "  grad = torch.tensor([np.exp(-x1**2-x2**2)*(1-2*x1**2), -2*x1*x2*np.exp(-x1**2-x2**2)])\n",
        "  return grad\n",
        "\n",
        "\n",
        "def hess(x1, x2):\n",
        "  hess = torch.tensor([[2*x1*np.exp(-x1**2-x2**2)*(2*x1**2-4*x1-1), -2*x2*np.exp(-x1**2-x2**2)*(1-2*x1**2)], \n",
        "                       [2*x2*np.exp(-x1**2-x2**2)*(-1+2*x1**2), 2*x1*np.exp(-x1**2-x2**2)*(-1+2*x2**2)]])\n",
        "  return hess\n",
        "\n",
        "hess(2., 2.)"
      ],
      "execution_count": null,
      "outputs": []
    },
    {
      "cell_type": "code",
      "metadata": {
        "id": "YPaSJH0ETtMb"
      },
      "source": [
        "x0 = torch.tensor([.5, .5]) #Initial guess\n",
        "N = 100 # Maximum number of iterations\n",
        "tol = 1e-4 # Convergence tolerance\n",
        "x = torch.zeros(N + 1,2) # Preallocate solution vector where row => iteration\n",
        "x[0] = x0 # Set initial guess\n",
        "\n",
        "n = 1\n",
        "nfinal = N # Store final iteration if tol is reached before N iterations\n",
        "while (n <= N): \n",
        "  x[n] = x[n - 1] + torch.reshape(grad(x[n-1,0], x[n-1,1]), (1,2)).mm(torch.inverse(hess(x[n-1,0], x[n-1,1])))\n",
        "  if (abs((np.sqrt(grad(x[n-1,0], x[n-1,1])[0]**2+grad(x[n-1,0], x[n-1,1])[1]**2))) <= tol):\n",
        "      nfinal = n # Store final iteration\n",
        "      break\n",
        "  n = n + 1\n",
        "\n",
        "print(x[:15,:])\n",
        "print(nfinal)"
      ],
      "execution_count": null,
      "outputs": []
    }
  ]
}